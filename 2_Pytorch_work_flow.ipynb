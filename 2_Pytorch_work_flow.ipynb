{
 "cells": [
  {
   "cell_type": "markdown",
   "metadata": {
    "id": "t2KsCTEKZiuM"
   },
   "source": [
    "## Pytorch work flow"
   ]
  },
  {
   "cell_type": "code",
   "execution_count": null,
   "metadata": {
    "colab": {
     "base_uri": "https://localhost:8080/"
    },
    "executionInfo": {
     "elapsed": 1068,
     "status": "ok",
     "timestamp": 1710435263557,
     "user": {
      "displayName": "Nithin thota",
      "userId": "15364259671882924073"
     },
     "user_tz": -330
    },
    "id": "1e7vW493ZeBv",
    "outputId": "8d01d372-3bc5-44e6-80c8-7e351095a9b1"
   },
   "outputs": [
    {
     "data": {
      "text/plain": [
       "{1: 'data (prepare and load)',\n",
       " 2: 'build model',\n",
       " 3: 'fitting the model to data (training)',\n",
       " 4: 'making predictions and evaluting a model(inference)',\n",
       " 5: 'saving and loading a model',\n",
       " 6: 'Putting it all together'}"
      ]
     },
     "execution_count": 6,
     "metadata": {},
     "output_type": "execute_result"
    }
   ],
   "source": [
    "what_we_covering = {1:\"data (prepare and load)\",\n",
    "                      2:\"build model\",\n",
    "                      3:\"fitting the model to data (training)\",\n",
    "                      4:\"making predictions and evaluting a model(inference)\",\n",
    "                      5:\"saving and loading a model\",\n",
    "                      6:\"Putting it all together\"}\n",
    "what_we_covering"
   ]
  },
  {
   "cell_type": "code",
   "execution_count": null,
   "metadata": {
    "colab": {
     "base_uri": "https://localhost:8080/",
     "height": 36
    },
    "executionInfo": {
     "elapsed": 51,
     "status": "ok",
     "timestamp": 1710435265024,
     "user": {
      "displayName": "Nithin thota",
      "userId": "15364259671882924073"
     },
     "user_tz": -330
    },
    "id": "3H3Z8pPdZuuZ",
    "outputId": "d68b42e4-be7b-43c6-e5fc-47f9d186ba5a"
   },
   "outputs": [
    {
     "data": {
      "application/vnd.google.colaboratory.intrinsic+json": {
       "type": "string"
      },
      "text/plain": [
       "'2.2.1+cu121'"
      ]
     },
     "execution_count": 7,
     "metadata": {},
     "output_type": "execute_result"
    }
   ],
   "source": [
    "import torch\n",
    "from torch import nn # nn contains all pf Pytorch's building blocks for neural networkd\n",
    "import matplotlib.pyplot as plt\n",
    "\n",
    "# check Pytorch version\n",
    "torch.__version__"
   ]
  },
  {
   "cell_type": "markdown",
   "metadata": {
    "id": "g2ZBBVeIaMid"
   },
   "source": [
    "### 1 Data (preparing and loading)\n",
    "\n",
    "Data can be almost anything in machine learnig\n",
    "* Excel speadsheet\n",
    "* Image of any kind\n",
    "* videos (YouTube has lots of data)\n",
    "* Audio like songs or podcasts\n",
    "* Text\n",
    "* DNA\n",
    "\n",
    "Machine Learning is a game of two parts:-\n",
    "\n",
    "  1. Get data into a numerical representation.\n",
    "\n",
    "  2.Build a model to learn patterns in that numerical representation.\n",
    "\n",
    "To Showcase this, let's create some **Known** data using the linear regression forumla.\n",
    "\n",
    "we'll use a linear regression formula to make a straight line with known **Parameters**"
   ]
  },
  {
   "cell_type": "markdown",
   "metadata": {
    "id": "pTRwQHD9afFQ"
   },
   "source": [
    "## Splitting the data into training and test set(one of the most important concepts in machine learning in general)\n",
    "\n",
    "let's create a training and test set with our data."
   ]
  },
  {
   "cell_type": "code",
   "execution_count": null,
   "metadata": {
    "colab": {
     "base_uri": "https://localhost:8080/"
    },
    "executionInfo": {
     "elapsed": 47,
     "status": "ok",
     "timestamp": 1710435265024,
     "user": {
      "displayName": "Nithin thota",
      "userId": "15364259671882924073"
     },
     "user_tz": -330
    },
    "id": "Q1WbUDrOf-Xr",
    "outputId": "5844405f-889f-4602-ffcd-57af6f9916ef"
   },
   "outputs": [
    {
     "data": {
      "text/plain": [
       "(tensor([[0.0000],\n",
       "         [0.0200],\n",
       "         [0.0400],\n",
       "         [0.0600],\n",
       "         [0.0800],\n",
       "         [0.1000],\n",
       "         [0.1200],\n",
       "         [0.1400],\n",
       "         [0.1600],\n",
       "         [0.1800]]),\n",
       " tensor([[0.3000],\n",
       "         [0.3140],\n",
       "         [0.3280],\n",
       "         [0.3420],\n",
       "         [0.3560],\n",
       "         [0.3700],\n",
       "         [0.3840],\n",
       "         [0.3980],\n",
       "         [0.4120],\n",
       "         [0.4260]]))"
      ]
     },
     "execution_count": 8,
     "metadata": {},
     "output_type": "execute_result"
    }
   ],
   "source": [
    "# Create *known* parameters\n",
    "weight = 0.7\n",
    "bias = 0.3\n",
    "\n",
    "# Create\n",
    "start = 0\n",
    "end = 1\n",
    "step = 0.02\n",
    "X = torch.arange(start, end, step).unsqueeze(dim=1)\n",
    "y = weight * X + bias\n",
    "\n",
    "X[:10], y[:10]"
   ]
  },
  {
   "cell_type": "code",
   "execution_count": null,
   "metadata": {
    "colab": {
     "base_uri": "https://localhost:8080/"
    },
    "executionInfo": {
     "elapsed": 44,
     "status": "ok",
     "timestamp": 1710435265025,
     "user": {
      "displayName": "Nithin thota",
      "userId": "15364259671882924073"
     },
     "user_tz": -330
    },
    "id": "er_MCA-kgJcu",
    "outputId": "3fd28b38-6fcc-4daf-cbcd-a685298bfe37"
   },
   "outputs": [
    {
     "data": {
      "text/plain": [
       "(50, 50)"
      ]
     },
     "execution_count": 9,
     "metadata": {},
     "output_type": "execute_result"
    }
   ],
   "source": [
    "len(X), len(y)"
   ]
  },
  {
   "cell_type": "code",
   "execution_count": null,
   "metadata": {
    "colab": {
     "base_uri": "https://localhost:8080/"
    },
    "executionInfo": {
     "elapsed": 40,
     "status": "ok",
     "timestamp": 1710435265025,
     "user": {
      "displayName": "Nithin thota",
      "userId": "15364259671882924073"
     },
     "user_tz": -330
    },
    "id": "5b8LWGGmZ0aL",
    "outputId": "f99716fe-f178-425e-e72c-da6699268482"
   },
   "outputs": [
    {
     "data": {
      "text/plain": [
       "(40, 40, 10, 10)"
      ]
     },
     "execution_count": 10,
     "metadata": {},
     "output_type": "execute_result"
    }
   ],
   "source": [
    "# create a train/test split\n",
    "train_split = int(0.8*len(X))\n",
    "X_train , y_train = X[:train_split] ,y[:train_split]\n",
    "X_test , y_test= X[train_split:] ,y[train_split:]\n",
    "\n",
    "len(X_train) , len(y_train) ,len(X_test) , len(y_test)"
   ]
  },
  {
   "cell_type": "markdown",
   "metadata": {
    "id": "S596KD_VgV4r"
   },
   "source": [
    "How might we better visualize our data?\n",
    "\n",
    "This is where the data explorer's motto comes in!\n",
    "\n",
    "\"Visualize, visualize, visualize!\"\n",
    "\n"
   ]
  },
  {
   "cell_type": "code",
   "execution_count": null,
   "metadata": {
    "id": "lPMZ_2s_aj-6"
   },
   "outputs": [],
   "source": [
    "def plot_predictions(train_data = X_train,\n",
    "                     train_label = y_train,\n",
    "                     test_data = X_test,\n",
    "                     test_label = y_test,\n",
    "                     predictions = None):\n",
    "\n",
    "  \"\"\"\n",
    "  Plots training data test data and compare predictions.\"\"\"\n",
    "  plt.figure(figsize=(10,7))\n",
    "\n",
    "  # plot training data in blue\n",
    "  plt.scatter(train_data,train_label,c='b',s=4,label=\"Training data\")\n",
    "  #plot test data in green\n",
    "  plt.scatter(test_data , test_label, c=\"g\",s=4, label = \"Testing data\")\n",
    "\n",
    "  # Are there Predictions?\n",
    "  if predictions is not None:\n",
    "    # plot the predicitons if they exist\n",
    "    plt.scatter(test_data,predictions,c=\"r\",s=4, label = \"Predictions\")\n",
    "    # show the legends\n",
    "  plt.legend(prop={\"size\": 14})"
   ]
  },
  {
   "cell_type": "code",
   "execution_count": null,
   "metadata": {
    "colab": {
     "base_uri": "https://localhost:8080/",
     "height": 599
    },
    "executionInfo": {
     "elapsed": 36,
     "status": "ok",
     "timestamp": 1710435265026,
     "user": {
      "displayName": "Nithin thota",
      "userId": "15364259671882924073"
     },
     "user_tz": -330
    },
    "id": "yTIDme8ZgawP",
    "outputId": "4a9b0850-ae7f-4b23-debc-05bea6ee1346"
   },
   "outputs": [
    {
     "data": {
      "image/png": "[encoded data removed]",
      "text/plain": [
       "<Figure size 1000x700 with 1 Axes>"
      ]
     },
     "metadata": {},
     "output_type": "display_data"
    }
   ],
   "source": [
    "plot_predictions()"
   ]
  },
  {
   "cell_type": "markdown",
   "metadata": {
    "id": "atbw7bUGgqWN"
   },
   "source": [
    "## 2. build model\n",
    "\n",
    "our first Pytorch  model\n",
    "\n",
    "what our model does:\n",
    " * start with random values (weight & bias)\n",
    " * look at training data and adjust the random values to better represent\n",
    " (or get closer to) the ideal values (the weights and bias values we used to create the data )\n",
    "\n",
    "How does it do so ?\n",
    "\n",
    "Through two main algorithms:\n",
    "\n",
    "1.Gradient descent\n",
    "\n",
    "2.Backpropagation"
   ]
  },
  {
   "cell_type": "code",
   "execution_count": null,
   "metadata": {
    "id": "IFJ3Ps2xgefF"
   },
   "outputs": [],
   "source": [
    "## Create linear regression model class\n",
    "class LinearRegressionModel(nn.Module): ## <-- almost every thing in Pytorch  inherits from nn.Module\n",
    "  def __init__(self):\n",
    "    super().__init__()\n",
    "    # initalize model parameters\n",
    "    self.weights = nn.Parameter(torch.randn(1,\n",
    "                                            requires_grad=True,\n",
    "                                            dtype=torch.float))\n",
    "    self.bias = nn.Parameter(torch.randn(1,\n",
    "                                         requires_grad=True,\n",
    "                             dtype=torch.float))\n",
    "    #\n",
    "    # forward method to define thecomputation in the model\n",
    "  def forward(self,x:torch.Tensor)->torch.Tensor: # <- \"x\" is the input data\n",
    "      return self.weights * x + self.bias # this is the linear regresson formula\n"
   ]
  },
  {
   "cell_type": "markdown",
   "metadata": {
    "id": "1Mx_hfR1hOQN"
   },
   "source": [
    "## Pytorch model building essentials\n",
    "\n",
    "* torch.nn - contains of the buildings for Computational graphs(neural networks can be considered a computational graph).\n",
    "* torch.nn.Parameters -what parametes should our model  try and learn, often a pytorch layer fro torch.nn will set this  for us.\n",
    "* torch.nn.Module - the base class for all neural network , if you subclass it you should overwrite forward().\n",
    "* torch.optim - this where the optimizers in Pytorch live , they will help with gradient descent.\n",
    "* def forward() - All nn.Modue subclass required you to overwrite  forward (),this method defines what happens in the forward computation.\n"
   ]
  },
  {
   "cell_type": "markdown",
   "metadata": {
    "id": "7r5rYLkUhVMV"
   },
   "source": [
    "## checking the contents of  pytorch model\n",
    "* Now we have created a model let's see what's inside.\n",
    "* so we can check our model Parameters or what's inside our model using .`Parametes()`"
   ]
  },
  {
   "cell_type": "code",
   "execution_count": null,
   "metadata": {
    "colab": {
     "base_uri": "https://localhost:8080/"
    },
    "executionInfo": {
     "elapsed": 33,
     "status": "ok",
     "timestamp": 1710435265026,
     "user": {
      "displayName": "Nithin thota",
      "userId": "15364259671882924073"
     },
     "user_tz": -330
    },
    "id": "NkoP6iGahKGg",
    "outputId": "e5a40d4e-d94f-41a9-aa95-1167e56d5b22"
   },
   "outputs": [
    {
     "data": {
      "text/plain": [
       "[Parameter containing:\n",
       " tensor([0.3367], requires_grad=True),\n",
       " Parameter containing:\n",
       " tensor([0.1288], requires_grad=True)]"
      ]
     },
     "execution_count": 14,
     "metadata": {},
     "output_type": "execute_result"
    }
   ],
   "source": [
    " # create a random seed\n",
    "import torch\n",
    "torch.manual_seed(42)\n",
    "\n",
    "# create an instance of the model (this is a sub class of nn.module)\n",
    "model_0 = LinearRegressionModel()\n",
    "# check out the parameters\n",
    "list(model_0.parameters())"
   ]
  },
  {
   "cell_type": "code",
   "execution_count": null,
   "metadata": {
    "colab": {
     "base_uri": "https://localhost:8080/"
    },
    "executionInfo": {
     "elapsed": 30,
     "status": "ok",
     "timestamp": 1710435265027,
     "user": {
      "displayName": "Nithin thota",
      "userId": "15364259671882924073"
     },
     "user_tz": -330
    },
    "id": "lsx-MflThZkI",
    "outputId": "a56f2dfc-2390-4e6a-b08f-ea893e0b74dd"
   },
   "outputs": [
    {
     "data": {
      "text/plain": [
       "OrderedDict([('weights', tensor([0.3367])), ('bias', tensor([0.1288]))])"
      ]
     },
     "execution_count": 15,
     "metadata": {},
     "output_type": "execute_result"
    }
   ],
   "source": [
    "# List named parameters\n",
    "model_0.state_dict()"
   ]
  },
  {
   "cell_type": "code",
   "execution_count": null,
   "metadata": {
    "colab": {
     "base_uri": "https://localhost:8080/"
    },
    "executionInfo": {
     "elapsed": 27,
     "status": "ok",
     "timestamp": 1710435265027,
     "user": {
      "displayName": "Nithin thota",
      "userId": "15364259671882924073"
     },
     "user_tz": -330
    },
    "id": "6zFNqNB_hfC4",
    "outputId": "dc71bfb0-cae9-42cc-8da0-a6b1ba9a1ff2"
   },
   "outputs": [
    {
     "data": {
      "text/plain": [
       "(0.7, 0.3)"
      ]
     },
     "execution_count": 16,
     "metadata": {},
     "output_type": "execute_result"
    }
   ],
   "source": [
    "weight , bias"
   ]
  },
  {
   "cell_type": "markdown",
   "metadata": {
    "id": "7vM9Wq1ah5JW"
   },
   "source": [
    "## Making prediction using `torch.inference_mode()`\n",
    "* To check our models predictive power let's see how well it predicts `y_test` based on `x_test`.\n",
    "* when we pass data through our model it's going to run it through the `forward()` method."
   ]
  },
  {
   "cell_type": "code",
   "execution_count": null,
   "metadata": {
    "colab": {
     "base_uri": "https://localhost:8080/"
    },
    "executionInfo": {
     "elapsed": 24,
     "status": "ok",
     "timestamp": 1710435265027,
     "user": {
      "displayName": "Nithin thota",
      "userId": "15364259671882924073"
     },
     "user_tz": -330
    },
    "id": "rYZhHyKhhh5H",
    "outputId": "a6fb3f8b-3b11-490e-f81b-6b19b45d1ef7"
   },
   "outputs": [
    {
     "data": {
      "text/plain": [
       "tensor([[0.3982],\n",
       "        [0.4049],\n",
       "        [0.4116],\n",
       "        [0.4184],\n",
       "        [0.4251],\n",
       "        [0.4318],\n",
       "        [0.4386],\n",
       "        [0.4453],\n",
       "        [0.4520],\n",
       "        [0.4588]], grad_fn=<AddBackward0>)"
      ]
     },
     "execution_count": 17,
     "metadata": {},
     "output_type": "execute_result"
    }
   ],
   "source": [
    "y_preds = model_0(X_test)\n",
    "y_preds"
   ]
  },
  {
   "cell_type": "code",
   "execution_count": null,
   "metadata": {
    "colab": {
     "base_uri": "https://localhost:8080/"
    },
    "executionInfo": {
     "elapsed": 23,
     "status": "ok",
     "timestamp": 1710435265028,
     "user": {
      "displayName": "Nithin thota",
      "userId": "15364259671882924073"
     },
     "user_tz": -330
    },
    "id": "muodRfzRhu39",
    "outputId": "a4f86703-04c3-4b7d-ba60-27e5bdc1c213"
   },
   "outputs": [
    {
     "data": {
      "text/plain": [
       "tensor([[0.3982],\n",
       "        [0.4049],\n",
       "        [0.4116],\n",
       "        [0.4184],\n",
       "        [0.4251],\n",
       "        [0.4318],\n",
       "        [0.4386],\n",
       "        [0.4453],\n",
       "        [0.4520],\n",
       "        [0.4588]])"
      ]
     },
     "execution_count": 18,
     "metadata": {},
     "output_type": "execute_result"
    }
   ],
   "source": [
    "## Make predictions with model\n",
    "# with torch.inference_mode():\n",
    "#   y_pred = model_0(X_test)\n",
    "# y_pred\n",
    "\n",
    "# you can also do something similar with torch.no_grad(),however inference_mode() is perferd.\n",
    "with torch.no_grad():\n",
    "  y_preds = model_0(X_test)\n",
    "y_preds\n"
   ]
  },
  {
   "cell_type": "code",
   "execution_count": null,
   "metadata": {
    "colab": {
     "base_uri": "https://localhost:8080/",
     "height": 599
    },
    "executionInfo": {
     "elapsed": 20,
     "status": "ok",
     "timestamp": 1710435265028,
     "user": {
      "displayName": "Nithin thota",
      "userId": "15364259671882924073"
     },
     "user_tz": -330
    },
    "id": "siTNWfp_h6ZN",
    "outputId": "58dae04c-651a-4321-a8f2-9822b9ffba0f"
   },
   "outputs": [
    {
     "data": {
      "image/png": "[encoded data removed]",
      "text/plain": [
       "<Figure size 1000x700 with 1 Axes>"
      ]
     },
     "metadata": {},
     "output_type": "display_data"
    }
   ],
   "source": [
    "plot_predictions(predictions=y_preds)"
   ]
  },
  {
   "cell_type": "markdown",
   "metadata": {
    "id": "Qvp3Ue0SiW9A"
   },
   "source": [
    "## 3  Training model\n",
    "* the whole idea of training is for a model to move from some *unknown* parameters (these may be random) to some *known* Parameters.\n",
    "\n",
    "* or in other word from a poor represntation of the data.\n",
    "\n",
    "* one way to measure how poor or how wrong your models predictions are is to use a loss function.\n",
    "* Note : loss function also called cost function or criteira in different areas. for  our case ,we are going to refere to it as a losss function.\n",
    "** Loss function ** :- to measure how wrong your model's  predictions are to the ideal o/p , lower is better .\n",
    "\n",
    "**Optimizer** :- Takes into account the loss of a model and adjust the model's parameters( eg:- weights & bias ) in our case to improve loss function.\n",
    "\n",
    "  * inside the optimizer you'll often have to set how parameters :-\n",
    "\n",
    "    * `params` :- the model parameters you'd like to optimize for example `params=model_0.parameters()`.\n",
    "\n",
    "    * `learning rate(lr)`:- the learning rate is a hyperparameters that defines how big/small the optimizer changes the parameters with each step (a small learning rate results in small changes ,a large learning rate results in large changes).\n",
    "\n",
    "\n",
    "And Specifically for Pytorch , we needs:\n",
    "* A trainig loop\n",
    "* A testing loop"
   ]
  },
  {
   "cell_type": "code",
   "execution_count": null,
   "metadata": {
    "colab": {
     "base_uri": "https://localhost:8080/"
    },
    "executionInfo": {
     "elapsed": 627,
     "status": "ok",
     "timestamp": 1710435265636,
     "user": {
      "displayName": "Nithin thota",
      "userId": "15364259671882924073"
     },
     "user_tz": -330
    },
    "id": "xN79Ey4CiKoR",
    "outputId": "89264653-dfa3-462a-c0c5-a06fbc578cbf"
   },
   "outputs": [
    {
     "data": {
      "text/plain": [
       "[Parameter containing:\n",
       " tensor([0.3367], requires_grad=True),\n",
       " Parameter containing:\n",
       " tensor([0.1288], requires_grad=True)]"
      ]
     },
     "execution_count": 20,
     "metadata": {},
     "output_type": "execute_result"
    }
   ],
   "source": [
    "list(model_0.parameters())"
   ]
  },
  {
   "cell_type": "code",
   "execution_count": null,
   "metadata": {
    "colab": {
     "base_uri": "https://localhost:8080/"
    },
    "executionInfo": {
     "elapsed": 626,
     "status": "ok",
     "timestamp": 1710435265637,
     "user": {
      "displayName": "Nithin thota",
      "userId": "15364259671882924073"
     },
     "user_tz": -330
    },
    "id": "HDJ3j3NBieLQ",
    "outputId": "62047249-aab7-44d0-ecb8-fbbc1e804289"
   },
   "outputs": [
    {
     "data": {
      "text/plain": [
       "OrderedDict([('weights', tensor([0.3367])), ('bias', tensor([0.1288]))])"
      ]
     },
     "execution_count": 21,
     "metadata": {},
     "output_type": "execute_result"
    }
   ],
   "source": [
    "# Check out our model's parameters (a parameter is a value that the model sets itself)\n",
    "model_0.state_dict()\n"
   ]
  },
  {
   "cell_type": "code",
   "execution_count": null,
   "metadata": {
    "id": "7hglD9kAihy9"
   },
   "outputs": [],
   "source": [
    "## set up a loss function\n",
    "loss_fn = nn.L1Loss()\n",
    "#setup an optimizer (Stochastic Gradient Descent)\n",
    "optimizer = torch.optim.SGD(params = model_0.parameters(),\n",
    "                            lr=0.01) # lr -> learning rate is possibly the most important  hyperparameter you can set"
   ]
  },
  {
   "cell_type": "markdown",
   "metadata": {
    "id": "eHs--rPIisFz"
   },
   "source": [
    "Q:- which loss fucntion and optimizers should use ?\n",
    "\n",
    "A:- This will be Problem specific .But with experience we can get idea of what works and doesn't with particular problem set.\n",
    "\n",
    "For example for a regression problem a loss function of `nn.L1Loss()`and an optimizer like `torch.optim.SGD()` will suffice.\n",
    "\n",
    "But for a classification problem like classifiying whether a photo is of a dog or cat we likely want to use a loss function of `nn.BCELoss()` (binary cross entropy loss)."
   ]
  },
  {
   "cell_type": "markdown",
   "metadata": {
    "id": "TNEBP5M1iztO"
   },
   "source": [
    "## Building a training loop and testing loop in pytorch\n",
    "\n",
    "A couple of thing we need in a training loop\n",
    "\n",
    "0.loop through the data.\n",
    "\n",
    "1.forward pass(this involves data moving through our models `forward()` functions)to make predictions on data - also called  forward propagation.\n",
    "\n",
    "2. calculate the loss  (compare forward propagation predictions to ground truth lables).\n",
    "3.Optimizers zero grad.\n",
    "4.Loss backward - move backward through the network to calulate the gradient of each of the parameters of our model with respect to the loss ( **back propagation**).\n",
    "5.Optimizer step - use the optimizer to adjust our model's parameters to try and improve the loss (**gradient descent**).\n"
   ]
  },
  {
   "cell_type": "code",
   "execution_count": null,
   "metadata": {
    "colab": {
     "base_uri": "https://localhost:8080/"
    },
    "executionInfo": {
     "elapsed": 8,
     "status": "ok",
     "timestamp": 1710435266875,
     "user": {
      "displayName": "Nithin thota",
      "userId": "15364259671882924073"
     },
     "user_tz": -330
    },
    "id": "5KPfLcaYimFc",
    "outputId": "191d6478-0c09-4ab0-fa1d-4d8a421e31b2"
   },
   "outputs": [
    {
     "name": "stdout",
     "output_type": "stream",
     "text": [
      "\n",
      "**********************************************\n",
      "Epoch: 0 | loss :0.31288138031959534 | Test loss :0.48106518387794495\n",
      "OrderedDict([('weights', tensor([0.3406])), ('bias', tensor([0.1388]))])\n",
      "\n",
      "**********************************************\n",
      "Epoch: 10 | loss :0.1976713240146637 | Test loss :0.3463551998138428\n",
      "OrderedDict([('weights', tensor([0.3796])), ('bias', tensor([0.2388]))])\n",
      "\n",
      "**********************************************\n",
      "Epoch: 20 | loss :0.08908725529909134 | Test loss :0.21729660034179688\n",
      "OrderedDict([('weights', tensor([0.4184])), ('bias', tensor([0.3333]))])\n",
      "\n",
      "**********************************************\n",
      "Epoch: 30 | loss :0.053148526698350906 | Test loss :0.14464017748832703\n",
      "OrderedDict([('weights', tensor([0.4512])), ('bias', tensor([0.3768]))])\n",
      "\n",
      "**********************************************\n",
      "Epoch: 40 | loss :0.04543796554207802 | Test loss :0.11360953003168106\n",
      "OrderedDict([('weights', tensor([0.4748])), ('bias', tensor([0.3868]))])\n",
      "\n",
      "**********************************************\n",
      "Epoch: 50 | loss :0.04167863354086876 | Test loss :0.09919948130846024\n",
      "OrderedDict([('weights', tensor([0.4938])), ('bias', tensor([0.3843]))])\n",
      "\n",
      "**********************************************\n",
      "Epoch: 60 | loss :0.03818932920694351 | Test loss :0.08886633068323135\n",
      "OrderedDict([('weights', tensor([0.5116])), ('bias', tensor([0.3788]))])\n",
      "\n",
      "**********************************************\n",
      "Epoch: 70 | loss :0.03476089984178543 | Test loss :0.0805937647819519\n",
      "OrderedDict([('weights', tensor([0.5288])), ('bias', tensor([0.3718]))])\n",
      "\n",
      "**********************************************\n",
      "Epoch: 80 | loss :0.03132382780313492 | Test loss :0.07232122868299484\n",
      "OrderedDict([('weights', tensor([0.5459])), ('bias', tensor([0.3648]))])\n",
      "\n",
      "**********************************************\n",
      "Epoch: 90 | loss :0.02788739837706089 | Test loss :0.06473556160926819\n",
      "OrderedDict([('weights', tensor([0.5629])), ('bias', tensor([0.3573]))])\n",
      "\n",
      "**********************************************\n",
      "Epoch: 100 | loss :0.024458957836031914 | Test loss :0.05646304413676262\n",
      "OrderedDict([('weights', tensor([0.5800])), ('bias', tensor([0.3503]))])\n",
      "\n",
      "**********************************************\n",
      "Epoch: 110 | loss :0.021020207554101944 | Test loss :0.04819049686193466\n",
      "OrderedDict([('weights', tensor([0.5972])), ('bias', tensor([0.3433]))])\n",
      "\n",
      "**********************************************\n",
      "Epoch: 120 | loss :0.01758546568453312 | Test loss :0.04060482233762741\n",
      "OrderedDict([('weights', tensor([0.6141])), ('bias', tensor([0.3358]))])\n",
      "\n",
      "**********************************************\n",
      "Epoch: 130 | loss :0.014155393466353416 | Test loss :0.03233227878808975\n",
      "OrderedDict([('weights', tensor([0.6313])), ('bias', tensor([0.3288]))])\n",
      "\n",
      "**********************************************\n",
      "Epoch: 140 | loss :0.010716589167714119 | Test loss :0.024059748277068138\n",
      "OrderedDict([('weights', tensor([0.6485])), ('bias', tensor([0.3218]))])\n",
      "\n",
      "**********************************************\n",
      "Epoch: 150 | loss :0.0072835334576666355 | Test loss :0.016474086791276932\n",
      "OrderedDict([('weights', tensor([0.6654])), ('bias', tensor([0.3143]))])\n",
      "\n",
      "**********************************************\n",
      "Epoch: 160 | loss :0.0038517764769494534 | Test loss :0.008201557211577892\n",
      "OrderedDict([('weights', tensor([0.6826])), ('bias', tensor([0.3073]))])\n",
      "\n",
      "**********************************************\n",
      "Epoch: 170 | loss :0.008932482451200485 | Test loss :0.005023092031478882\n",
      "OrderedDict([('weights', tensor([0.6951])), ('bias', tensor([0.2993]))])\n",
      "\n",
      "**********************************************\n",
      "Epoch: 180 | loss :0.008932482451200485 | Test loss :0.005023092031478882\n",
      "OrderedDict([('weights', tensor([0.6951])), ('bias', tensor([0.2993]))])\n",
      "\n",
      "**********************************************\n",
      "Epoch: 190 | loss :0.008932482451200485 | Test loss :0.005023092031478882\n",
      "OrderedDict([('weights', tensor([0.6951])), ('bias', tensor([0.2993]))])\n"
     ]
    }
   ],
   "source": [
    "torch.manual_seed(42)\n",
    "# An epoch is one loop through the data   (this is a hyperparameters  because we have to set it  )\n",
    "epochs = 200\n",
    "\n",
    "# Track  different values\n",
    "epoch_count = [ ]\n",
    "loss_values = [ ]\n",
    "test_loss_values = [ ]\n",
    "\n",
    "### Training\n",
    "#0 Loop through the data\n",
    "for epoch in range(epochs):\n",
    "  # set the model to training mode\n",
    "  model_0.train() # train mode in pytorch  sets all parameters  that requires gradients to  requires gradients\n",
    "\n",
    "   # 1. Forward pass\n",
    "  y_pred = model_0(X_train)\n",
    "   # 2 .calculate the loss\n",
    "  loss = loss_fn(y_pred,y_train)\n",
    "  # print(f\"Loss : {loss}\")\n",
    "  # 3.Optimizer zero grad\n",
    "  optimizer.zero_grad()\n",
    "\n",
    "  # 4 . Perform backpropagation on the loss with respect to the parameters of the model.\n",
    "  loss.backward()\n",
    "\n",
    "  # 5 .step the optimizer (perform gradient descent )\n",
    "  optimizer.step( )  # by default  how the optimizer changes will accumlumate through the loop so we have to zero them above in step3 for yhe next iterationof the loop\n",
    "\n",
    "## Testing\n",
    "  model_0.eval() # trun off different settings in the model not needed for evalution/testing (drop out / batch norm layers)\n",
    "  with torch.inference_mode(): # turn off gradient tracking  & a couple more things behind the scenes\n",
    "    # with torch.no_grad(): # you may also see  torch.no_grad() in  older pytorch  code\n",
    "    # 1. DO the forward pass\n",
    "    test_pred = model_0(X_test)\n",
    "\n",
    "    # 2 calculate the loss\n",
    "    test_loss = loss_fn(test_pred,y_test)\n",
    "\n",
    "\n",
    "  if epoch % 10 == 0:\n",
    "    print( )\n",
    "    print(\"**********************************************\")\n",
    "    epoch_count.append(epoch)\n",
    "    loss_values.append(loss)\n",
    "    test_loss_values.append(test_loss)\n",
    "    print(f\"Epoch: {epoch} | loss :{loss} | Test loss :{test_loss}\")\n",
    "\n",
    "    ## Print out model state_dict()\n",
    "    print(model_0.state_dict())"
   ]
  },
  {
   "cell_type": "code",
   "execution_count": null,
   "metadata": {
    "colab": {
     "base_uri": "https://localhost:8080/"
    },
    "executionInfo": {
     "elapsed": 7,
     "status": "ok",
     "timestamp": 1710435266875,
     "user": {
      "displayName": "Nithin thota",
      "userId": "15364259671882924073"
     },
     "user_tz": -330
    },
    "id": "KAr6dAlnRU-Q",
    "outputId": "991e1a25-daf4-4b9f-80ca-3bb4c3f704ef"
   },
   "outputs": [
    {
     "data": {
      "text/plain": [
       "(array([0.31288138, 0.19767132, 0.08908726, 0.05314853, 0.04543797,\n",
       "        0.04167863, 0.03818933, 0.0347609 , 0.03132383, 0.0278874 ,\n",
       "        0.02445896, 0.02102021, 0.01758547, 0.01415539, 0.01071659,\n",
       "        0.00728353, 0.00385178, 0.00893248, 0.00893248, 0.00893248],\n",
       "       dtype=float32),\n",
       " [tensor(0.4811),\n",
       "  tensor(0.3464),\n",
       "  tensor(0.2173),\n",
       "  tensor(0.1446),\n",
       "  tensor(0.1136),\n",
       "  tensor(0.0992),\n",
       "  tensor(0.0889),\n",
       "  tensor(0.0806),\n",
       "  tensor(0.0723),\n",
       "  tensor(0.0647),\n",
       "  tensor(0.0565),\n",
       "  tensor(0.0482),\n",
       "  tensor(0.0406),\n",
       "  tensor(0.0323),\n",
       "  tensor(0.0241),\n",
       "  tensor(0.0165),\n",
       "  tensor(0.0082),\n",
       "  tensor(0.0050),\n",
       "  tensor(0.0050),\n",
       "  tensor(0.0050)])"
      ]
     },
     "execution_count": 24,
     "metadata": {},
     "output_type": "execute_result"
    }
   ],
   "source": [
    "import numpy as np\n",
    "np.array(torch.tensor(loss_values).cpu().numpy()), test_loss_values"
   ]
  },
  {
   "cell_type": "code",
   "execution_count": null,
   "metadata": {
    "colab": {
     "base_uri": "https://localhost:8080/",
     "height": 472
    },
    "executionInfo": {
     "elapsed": 1064,
     "status": "ok",
     "timestamp": 1710435267935,
     "user": {
      "displayName": "Nithin thota",
      "userId": "15364259671882924073"
     },
     "user_tz": -330
    },
    "id": "hP-bM6rvQy38",
    "outputId": "c1b84566-6022-4432-f380-e232a52337f8"
   },
   "outputs": [
    {
     "data": {
      "image/png": "[encoded data removed]",
      "text/plain": [
       "<Figure size 640x480 with 1 Axes>"
      ]
     },
     "metadata": {},
     "output_type": "display_data"
    }
   ],
   "source": [
    "## Plot the loss curve\n",
    "plt.plot(epoch_count , np.array(torch.tensor(loss_values).cpu().numpy()) ,label = \"Trian loss\")\n",
    "plt.plot(epoch_count , test_loss_values ,label = \"Test loss\")\n",
    "plt.title(\"Traning and testing loss curve \")\n",
    "plt.ylabel(\"Loss\")\n",
    "plt.xlabel(\"Epochs\")\n",
    "plt.legend()\n",
    "plt.show()"
   ]
  },
  {
   "cell_type": "code",
   "execution_count": null,
   "metadata": {
    "colab": {
     "base_uri": "https://localhost:8080/"
    },
    "executionInfo": {
     "elapsed": 15,
     "status": "ok",
     "timestamp": 1710435267935,
     "user": {
      "displayName": "Nithin thota",
      "userId": "15364259671882924073"
     },
     "user_tz": -330
    },
    "id": "thEFacgwQFxb",
    "outputId": "2d43999c-1f33-413c-ca05-335ac74a24ff"
   },
   "outputs": [
    {
     "name": "stdout",
     "output_type": "stream",
     "text": [
      "Epoch count:[0, 10, 20, 30, 40, 50, 60, 70, 80, 90, 100, 110, 120, 130, 140, 150, 160, 170, 180, 190] \n",
      "| loss values:[tensor(0.3129, grad_fn=<MeanBackward0>), tensor(0.1977, grad_fn=<MeanBackward0>), tensor(0.0891, grad_fn=<MeanBackward0>), tensor(0.0531, grad_fn=<MeanBackward0>), tensor(0.0454, grad_fn=<MeanBackward0>), tensor(0.0417, grad_fn=<MeanBackward0>), tensor(0.0382, grad_fn=<MeanBackward0>), tensor(0.0348, grad_fn=<MeanBackward0>), tensor(0.0313, grad_fn=<MeanBackward0>), tensor(0.0279, grad_fn=<MeanBackward0>), tensor(0.0245, grad_fn=<MeanBackward0>), tensor(0.0210, grad_fn=<MeanBackward0>), tensor(0.0176, grad_fn=<MeanBackward0>), tensor(0.0142, grad_fn=<MeanBackward0>), tensor(0.0107, grad_fn=<MeanBackward0>), tensor(0.0073, grad_fn=<MeanBackward0>), tensor(0.0039, grad_fn=<MeanBackward0>), tensor(0.0089, grad_fn=<MeanBackward0>), tensor(0.0089, grad_fn=<MeanBackward0>), tensor(0.0089, grad_fn=<MeanBackward0>)] \n",
      "| test loss :[tensor(0.4811), tensor(0.3464), tensor(0.2173), tensor(0.1446), tensor(0.1136), tensor(0.0992), tensor(0.0889), tensor(0.0806), tensor(0.0723), tensor(0.0647), tensor(0.0565), tensor(0.0482), tensor(0.0406), tensor(0.0323), tensor(0.0241), tensor(0.0165), tensor(0.0082), tensor(0.0050), tensor(0.0050), tensor(0.0050)]\n"
     ]
    }
   ],
   "source": [
    "print(f\"Epoch count:{epoch_count} \\n| loss values:{loss_values} \\n| test loss :{test_loss_values}\")"
   ]
  },
  {
   "cell_type": "code",
   "execution_count": null,
   "metadata": {
    "colab": {
     "base_uri": "https://localhost:8080/"
    },
    "executionInfo": {
     "elapsed": 13,
     "status": "ok",
     "timestamp": 1710435267935,
     "user": {
      "displayName": "Nithin thota",
      "userId": "15364259671882924073"
     },
     "user_tz": -330
    },
    "id": "Q-dOk45Si9SH",
    "outputId": "10b51dd4-5739-46e1-d6f4-a8fa897abb2c"
   },
   "outputs": [
    {
     "data": {
      "text/plain": [
       "OrderedDict([('weights', tensor([0.6990])), ('bias', tensor([0.3093]))])"
      ]
     },
     "execution_count": 27,
     "metadata": {},
     "output_type": "execute_result"
    }
   ],
   "source": [
    "model_0.state_dict()"
   ]
  },
  {
   "cell_type": "code",
   "execution_count": null,
   "metadata": {
    "id": "tW0ACp-LjM0O"
   },
   "outputs": [],
   "source": [
    "with torch.inference_mode():\n",
    "  y_preds_new = model_0(X_test)"
   ]
  },
  {
   "cell_type": "code",
   "execution_count": null,
   "metadata": {
    "colab": {
     "base_uri": "https://localhost:8080/"
    },
    "executionInfo": {
     "elapsed": 11,
     "status": "ok",
     "timestamp": 1710435267936,
     "user": {
      "displayName": "Nithin thota",
      "userId": "15364259671882924073"
     },
     "user_tz": -330
    },
    "id": "Us27lkzbjTGR",
    "outputId": "32f6cd49-59fe-4c87-fb7c-99d11bd05d48"
   },
   "outputs": [
    {
     "data": {
      "text/plain": [
       "(0.7, 0.3)"
      ]
     },
     "execution_count": 29,
     "metadata": {},
     "output_type": "execute_result"
    }
   ],
   "source": [
    "weight, bias"
   ]
  },
  {
   "cell_type": "code",
   "execution_count": null,
   "metadata": {
    "colab": {
     "base_uri": "https://localhost:8080/",
     "height": 599
    },
    "executionInfo": {
     "elapsed": 9,
     "status": "ok",
     "timestamp": 1710435267936,
     "user": {
      "displayName": "Nithin thota",
      "userId": "15364259671882924073"
     },
     "user_tz": -330
    },
    "id": "_RTopaIzjChD",
    "outputId": "74f000f0-6ba7-4de1-fce4-bac1ef2a5b7d"
   },
   "outputs": [
    {
     "data": {
      "image/png": "[encoded data removed]",
      "text/plain": [
       "<Figure size 1000x700 with 1 Axes>"
      ]
     },
     "metadata": {},
     "output_type": "display_data"
    }
   ],
   "source": [
    "plot_predictions(predictions=y_preds)"
   ]
  },
  {
   "cell_type": "code",
   "execution_count": null,
   "metadata": {
    "colab": {
     "base_uri": "https://localhost:8080/",
     "height": 599
    },
    "executionInfo": {
     "elapsed": 1269,
     "status": "ok",
     "timestamp": 1710435269197,
     "user": {
      "displayName": "Nithin thota",
      "userId": "15364259671882924073"
     },
     "user_tz": -330
    },
    "id": "XehBzkDOjFoi",
    "outputId": "467e2f26-12bd-4607-bd51-f9b289aadabb"
   },
   "outputs": [
    {
     "data": {
      "image/png": "[encoded data removed]",
      "text/plain": [
       "<Figure size 1000x700 with 1 Axes>"
      ]
     },
     "metadata": {},
     "output_type": "display_data"
    }
   ],
   "source": [
    "plot_predictions(predictions=y_preds_new)"
   ]
  },
  {
   "cell_type": "markdown",
   "metadata": {
    "id": "8SBO29AxWAeo"
   },
   "source": [
    "## Saving a Model in Pytorch\n",
    "\n",
    "There are three main methods you should about for saving and loading models in Pytorch.\n",
    "\n",
    "1.`torch.save()`- allow you to save a Pytorch object in Python's a pickel format.\n",
    "\n",
    "2`torch.load()` - allow you load a saved pytorch object .\n",
    "\n",
    "3.`torch.nn.Module.load_state_dict()` - allow to load a mode's saved state dictionary ."
   ]
  },
  {
   "cell_type": "code",
   "execution_count": null,
   "metadata": {
    "colab": {
     "base_uri": "https://localhost:8080/"
    },
    "executionInfo": {
     "elapsed": 49,
     "status": "ok",
     "timestamp": 1710435269197,
     "user": {
      "displayName": "Nithin thota",
      "userId": "15364259671882924073"
     },
     "user_tz": -330
    },
    "id": "MF0t1t3m51hx",
    "outputId": "37cab6a2-6ff8-4140-c517-f53acb95c533"
   },
   "outputs": [
    {
     "name": "stdout",
     "output_type": "stream",
     "text": [
      "saving model to :models/2_Pytorch_work_flow_model_0.pth\n"
     ]
    }
   ],
   "source": [
    "# saving Pytorch model\n",
    "from pathlib import Path  # The pathlib module in Python provides a convenient and object-oriented way to work with file system paths.\n",
    "\n",
    "# 1. create models directory\n",
    "MODEL_PATH = Path('models')\n",
    "MODEL_PATH.mkdir(parents=True ,exist_ok = True)\n",
    "\n",
    "# 2 Create  model save path\n",
    "MODEL_NAME = '2_Pytorch_work_flow_model_0.pth'\n",
    "\n",
    "MODEL_SAVE_PATH = MODEL_PATH / MODEL_NAME\n",
    "\n",
    "# 3. save the model state dict\n",
    "print(f\"saving model to :{MODEL_SAVE_PATH}\")\n",
    "torch.save(obj = model_0.state_dict(),\n",
    "            f = MODEL_SAVE_PATH)"
   ]
  },
  {
   "cell_type": "code",
   "execution_count": null,
   "metadata": {
    "colab": {
     "base_uri": "https://localhost:8080/"
    },
    "executionInfo": {
     "elapsed": 48,
     "status": "ok",
     "timestamp": 1710435269197,
     "user": {
      "displayName": "Nithin thota",
      "userId": "15364259671882924073"
     },
     "user_tz": -330
    },
    "id": "KWAQr53CbrVa",
    "outputId": "5d3c88b9-ba7c-4397-eba7-e0580794a729"
   },
   "outputs": [
    {
     "name": "stdout",
     "output_type": "stream",
     "text": [
      "total 4\n",
      "-rw-r--r-- 1 root root 1680 Mar 14 16:54 2_Pytorch_work_flow_model_0.pth\n"
     ]
    }
   ],
   "source": [
    "!ls -l models # this command lists the contents of a directory or file named \"models\" in your environment, likely a Python notebook."
   ]
  },
  {
   "cell_type": "markdown",
   "metadata": {
    "id": "qRcFP89Ve3ne"
   },
   "source": [
    "## loading a Pytorch Model\n",
    "\n",
    "since we saved our models `state_dict()` rather the entire model,we'll create a new instance of our model class and load the saved `state_dict()` into that."
   ]
  },
  {
   "cell_type": "code",
   "execution_count": null,
   "metadata": {
    "colab": {
     "base_uri": "https://localhost:8080/"
    },
    "executionInfo": {
     "elapsed": 45,
     "status": "ok",
     "timestamp": 1710435269198,
     "user": {
      "displayName": "Nithin thota",
      "userId": "15364259671882924073"
     },
     "user_tz": -330
    },
    "id": "NB2DrL-ncLJ-",
    "outputId": "2b64e2a9-f674-49c0-fcc6-c49d555d2b37"
   },
   "outputs": [
    {
     "data": {
      "text/plain": [
       "OrderedDict([('weights', tensor([0.6990])), ('bias', tensor([0.3093]))])"
      ]
     },
     "execution_count": 34,
     "metadata": {},
     "output_type": "execute_result"
    }
   ],
   "source": [
    "model_0.state_dict()"
   ]
  },
  {
   "cell_type": "code",
   "execution_count": null,
   "metadata": {
    "colab": {
     "base_uri": "https://localhost:8080/"
    },
    "executionInfo": {
     "elapsed": 44,
     "status": "ok",
     "timestamp": 1710435269198,
     "user": {
      "displayName": "Nithin thota",
      "userId": "15364259671882924073"
     },
     "user_tz": -330
    },
    "id": "8OfkZ7pvfhZG",
    "outputId": "52a3ee1c-6858-4e5b-d494-eab8bd298a95"
   },
   "outputs": [
    {
     "data": {
      "text/plain": [
       "<All keys matched successfully>"
      ]
     },
     "execution_count": 35,
     "metadata": {},
     "output_type": "execute_result"
    }
   ],
   "source": [
    "# To load in a saved state_dict we have to  instantiate a new instance of our model class\n",
    "loaded_model_0 = LinearRegressionModel()\n",
    "\n",
    "# Load the saved state_dict of model_0 (this will update the new instance with updated parameters)\n",
    "loaded_model_0.load_state_dict(torch.load(f=MODEL_SAVE_PATH))"
   ]
  },
  {
   "cell_type": "code",
   "execution_count": null,
   "metadata": {
    "colab": {
     "base_uri": "https://localhost:8080/"
    },
    "executionInfo": {
     "elapsed": 40,
     "status": "ok",
     "timestamp": 1710435269198,
     "user": {
      "displayName": "Nithin thota",
      "userId": "15364259671882924073"
     },
     "user_tz": -330
    },
    "id": "cNsSa329gMC7",
    "outputId": "d432a55e-c9b9-4d34-8c39-deeb3e336992"
   },
   "outputs": [
    {
     "data": {
      "text/plain": [
       "OrderedDict([('weights', tensor([0.6990])), ('bias', tensor([0.3093]))])"
      ]
     },
     "execution_count": 36,
     "metadata": {},
     "output_type": "execute_result"
    }
   ],
   "source": [
    "loaded_model_0.state_dict()"
   ]
  },
  {
   "cell_type": "code",
   "execution_count": null,
   "metadata": {
    "colab": {
     "base_uri": "https://localhost:8080/"
    },
    "executionInfo": {
     "elapsed": 38,
     "status": "ok",
     "timestamp": 1710435269199,
     "user": {
      "displayName": "Nithin thota",
      "userId": "15364259671882924073"
     },
     "user_tz": -330
    },
    "id": "sIYiu7FRgTBn",
    "outputId": "9babd467-b695-466d-ebc5-c914ecaf9053"
   },
   "outputs": [
    {
     "data": {
      "text/plain": [
       "tensor([[0.8685],\n",
       "        [0.8825],\n",
       "        [0.8965],\n",
       "        [0.9105],\n",
       "        [0.9245],\n",
       "        [0.9384],\n",
       "        [0.9524],\n",
       "        [0.9664],\n",
       "        [0.9804],\n",
       "        [0.9944]])"
      ]
     },
     "execution_count": 37,
     "metadata": {},
     "output_type": "execute_result"
    }
   ],
   "source": [
    "# Make some Predictions with our loaded model\n",
    "loaded_model_0.eval()\n",
    "with torch.inference_mode():\n",
    "  loaded_model_preds = loaded_model_0(X_test)\n",
    "loaded_model_preds"
   ]
  },
  {
   "cell_type": "code",
   "execution_count": null,
   "metadata": {
    "colab": {
     "base_uri": "https://localhost:8080/"
    },
    "executionInfo": {
     "elapsed": 36,
     "status": "ok",
     "timestamp": 1710435269200,
     "user": {
      "displayName": "Nithin thota",
      "userId": "15364259671882924073"
     },
     "user_tz": -330
    },
    "id": "r7amOGpgh3TH",
    "outputId": "0f365f99-2c4a-485e-c4e6-1cdf310d4c63"
   },
   "outputs": [
    {
     "data": {
      "text/plain": [
       "tensor([[0.8685],\n",
       "        [0.8825],\n",
       "        [0.8965],\n",
       "        [0.9105],\n",
       "        [0.9245],\n",
       "        [0.9384],\n",
       "        [0.9524],\n",
       "        [0.9664],\n",
       "        [0.9804],\n",
       "        [0.9944]])"
      ]
     },
     "execution_count": 38,
     "metadata": {},
     "output_type": "execute_result"
    }
   ],
   "source": [
    "# Make some models preds\n",
    "model_0.eval()\n",
    "with torch.inference_mode():\n",
    "  y_preds = model_0(X_test)\n",
    "y_preds"
   ]
  },
  {
   "cell_type": "code",
   "execution_count": null,
   "metadata": {
    "colab": {
     "base_uri": "https://localhost:8080/"
    },
    "executionInfo": {
     "elapsed": 35,
     "status": "ok",
     "timestamp": 1710435269201,
     "user": {
      "displayName": "Nithin thota",
      "userId": "15364259671882924073"
     },
     "user_tz": -330
    },
    "id": "VAuoio3_h62W",
    "outputId": "d0d3ee08-1acd-463c-94dd-2e5b0bce2aec"
   },
   "outputs": [
    {
     "data": {
      "text/plain": [
       "tensor([[True],\n",
       "        [True],\n",
       "        [True],\n",
       "        [True],\n",
       "        [True],\n",
       "        [True],\n",
       "        [True],\n",
       "        [True],\n",
       "        [True],\n",
       "        [True]])"
      ]
     },
     "execution_count": 39,
     "metadata": {},
     "output_type": "execute_result"
    }
   ],
   "source": [
    "# compare loaded model preds with original models preds\n",
    "y_preds == loaded_model_preds"
   ]
  },
  {
   "cell_type": "markdown",
   "metadata": {
    "id": "PYstgxsSjv1R"
   },
   "source": [
    "## 6 . Putting it all together\n",
    "\n",
    "Let's go back through the steps above and see it all in one place."
   ]
  },
  {
   "cell_type": "code",
   "execution_count": null,
   "metadata": {
    "colab": {
     "base_uri": "https://localhost:8080/",
     "height": 36
    },
    "executionInfo": {
     "elapsed": 34,
     "status": "ok",
     "timestamp": 1710435269202,
     "user": {
      "displayName": "Nithin thota",
      "userId": "15364259671882924073"
     },
     "user_tz": -330
    },
    "id": "h85_kLZskSti",
    "outputId": "ae262d51-952a-4599-ad4f-6394fa7020c8"
   },
   "outputs": [
    {
     "data": {
      "application/vnd.google.colaboratory.intrinsic+json": {
       "type": "string"
      },
      "text/plain": [
       "'2.2.1+cu121'"
      ]
     },
     "execution_count": 40,
     "metadata": {},
     "output_type": "execute_result"
    }
   ],
   "source": [
    "# Import\n",
    "import torch\n",
    "from torch import nn\n",
    "import matplotlib.pyplot as plt\n",
    "\n",
    "torch.__version__"
   ]
  },
  {
   "cell_type": "markdown",
   "metadata": {
    "id": "iNzLJgfbkmP8"
   },
   "source": [
    "Cretae  device-agnostic code.\n",
    "\n",
    "This means if we have got access to a GPU , our code will use it ( for potentially faster computing ).\n",
    "\n",
    "If no GPU is available,the code will default to using CPU"
   ]
  },
  {
   "cell_type": "code",
   "execution_count": null,
   "metadata": {
    "colab": {
     "base_uri": "https://localhost:8080/"
    },
    "executionInfo": {
     "elapsed": 33,
     "status": "ok",
     "timestamp": 1710435269202,
     "user": {
      "displayName": "Nithin thota",
      "userId": "15364259671882924073"
     },
     "user_tz": -330
    },
    "id": "Zl0hYHyhlRyQ",
    "outputId": "84987fe2-3ce7-4e24-a311-9bb18ef44738"
   },
   "outputs": [
    {
     "name": "stdout",
     "output_type": "stream",
     "text": [
      "using device : cuda\n"
     ]
    }
   ],
   "source": [
    "# setup device agonstic code\n",
    "device = \"cuda\" if torch.cuda.is_available() else \"cpu\"\n",
    "print(f'using device : {device}')"
   ]
  },
  {
   "cell_type": "markdown",
   "metadata": {
    "id": "P94-NsiWkAQX"
   },
   "source": [
    "## 6.1 Data"
   ]
  },
  {
   "cell_type": "code",
   "execution_count": null,
   "metadata": {
    "colab": {
     "base_uri": "https://localhost:8080/"
    },
    "executionInfo": {
     "elapsed": 33,
     "status": "ok",
     "timestamp": 1710435269203,
     "user": {
      "displayName": "Nithin thota",
      "userId": "15364259671882924073"
     },
     "user_tz": -330
    },
    "id": "grbfvRc1ifRl",
    "outputId": "02c1dbd1-b745-44f9-afb6-415404dd210e"
   },
   "outputs": [
    {
     "data": {
      "text/plain": [
       "(tensor([[0.0000],\n",
       "         [0.0200],\n",
       "         [0.0400],\n",
       "         [0.0600],\n",
       "         [0.0800],\n",
       "         [0.1000],\n",
       "         [0.1200],\n",
       "         [0.1400],\n",
       "         [0.1600],\n",
       "         [0.1800]]),\n",
       " tensor([[0.3000],\n",
       "         [0.3140],\n",
       "         [0.3280],\n",
       "         [0.3420],\n",
       "         [0.3560],\n",
       "         [0.3700],\n",
       "         [0.3840],\n",
       "         [0.3980],\n",
       "         [0.4120],\n",
       "         [0.4260]]))"
      ]
     },
     "execution_count": 42,
     "metadata": {},
     "output_type": "execute_result"
    }
   ],
   "source": [
    "# Create some data using the linear regression formula of y= Weights*x+bias\n",
    "weight = 0.7\n",
    "bias = 0.3\n",
    "\n",
    "# create range values\n",
    "start = 0\n",
    "end = 1\n",
    "step = 0.02\n",
    "\n",
    "# Create X and y (features and labels)\n",
    "X= torch.arange(start,end,step).unsqueeze(dim=1 ) # without squeeze error wil pop\n",
    "y = weight * X +bias\n",
    "X[:10] , y[:10]\n"
   ]
  },
  {
   "cell_type": "code",
   "execution_count": null,
   "metadata": {
    "colab": {
     "base_uri": "https://localhost:8080/"
    },
    "executionInfo": {
     "elapsed": 31,
     "status": "ok",
     "timestamp": 1710435269203,
     "user": {
      "displayName": "Nithin thota",
      "userId": "15364259671882924073"
     },
     "user_tz": -330
    },
    "id": "G_Ok-4G7j1Zr",
    "outputId": "0f41aeff-5566-4cc8-a334-831b3fae6bdb"
   },
   "outputs": [
    {
     "data": {
      "text/plain": [
       "(40, 40, 10, 10)"
      ]
     },
     "execution_count": 43,
     "metadata": {},
     "output_type": "execute_result"
    }
   ],
   "source": [
    "## split data\n",
    "train_split = int(0.8*len(X))\n",
    "X_train,y_train = X[:train_split],y[:train_split]\n",
    "X_test,y_test = X[train_split:],y[train_split:]\n",
    "len(X_train) , len(y_train) ,len(X_test),len(y_test)"
   ]
  },
  {
   "cell_type": "code",
   "execution_count": null,
   "metadata": {
    "colab": {
     "base_uri": "https://localhost:8080/",
     "height": 599
    },
    "executionInfo": {
     "elapsed": 28,
     "status": "ok",
     "timestamp": 1710435269203,
     "user": {
      "displayName": "Nithin thota",
      "userId": "15364259671882924073"
     },
     "user_tz": -330
    },
    "id": "iq0pYBFqkbA2",
    "outputId": "2abb1eb4-e8b7-4603-b5c4-f2ba6b82c82c"
   },
   "outputs": [
    {
     "data": {
      "image/png": "[encoded data removed]",
      "text/plain": [
       "<Figure size 1000x700 with 1 Axes>"
      ]
     },
     "metadata": {},
     "output_type": "display_data"
    }
   ],
   "source": [
    "# Plot the data\n",
    "# Note : if you don't have the plot_prediction() function loaded this will error\n",
    "plot_predictions(X_train,y_train,X_test,y_test)"
   ]
  },
  {
   "cell_type": "markdown",
   "metadata": {
    "id": "Wgya0TgrlQTQ"
   },
   "source": [
    "## 6.2 building a Pytorch linear Model"
   ]
  },
  {
   "cell_type": "code",
   "execution_count": null,
   "metadata": {
    "colab": {
     "base_uri": "https://localhost:8080/"
    },
    "executionInfo": {
     "elapsed": 28,
     "status": "ok",
     "timestamp": 1710435269204,
     "user": {
      "displayName": "Nithin thota",
      "userId": "15364259671882924073"
     },
     "user_tz": -330
    },
    "id": "_4txKsBVk0XS",
    "outputId": "903e5e17-df0b-44e6-fc58-51eaa8f6d5c9"
   },
   "outputs": [
    {
     "data": {
      "text/plain": [
       "(LinearRegressionModelV2(\n",
       "   (linear_layer): Linear(in_features=1, out_features=1, bias=True)\n",
       " ),\n",
       " OrderedDict([('linear_layer.weight', tensor([[0.7645]])),\n",
       "              ('linear_layer.bias', tensor([0.8300]))]))"
      ]
     },
     "execution_count": 45,
     "metadata": {},
     "output_type": "execute_result"
    }
   ],
   "source": [
    "# Create a linear model by subclassing nn.Module\n",
    "class LinearRegressionModelV2(nn.Module):\n",
    "  def __init__(self):\n",
    "    super().__init__()\n",
    "    ## use nn.Linear() for creating the model parameters\n",
    "    self.linear_layer = nn.Linear(in_features=1,\n",
    "                                out_features=1)\n",
    "  def forward(self,x :torch.Tensor) ->torch.Tensor:\n",
    "    return self.linear_layer(x)\n",
    "#set the manual seed\n",
    "torch.manual_seed(42)\n",
    "model_1 = LinearRegressionModelV2()\n",
    "model_1 , model_1.state_dict()"
   ]
  },
  {
   "cell_type": "code",
   "execution_count": null,
   "metadata": {
    "colab": {
     "base_uri": "https://localhost:8080/"
    },
    "executionInfo": {
     "elapsed": 26,
     "status": "ok",
     "timestamp": 1710435269204,
     "user": {
      "displayName": "Nithin thota",
      "userId": "15364259671882924073"
     },
     "user_tz": -330
    },
    "id": "57ZxedEQmKNh",
    "outputId": "3fefbc58-1d7f-4ec2-c896-85927f98f836"
   },
   "outputs": [
    {
     "data": {
      "text/plain": [
       "(tensor([[0.0000],\n",
       "         [0.0200],\n",
       "         [0.0400],\n",
       "         [0.0600],\n",
       "         [0.0800]]),\n",
       " tensor([[0.3000],\n",
       "         [0.3140],\n",
       "         [0.3280],\n",
       "         [0.3420],\n",
       "         [0.3560]]))"
      ]
     },
     "execution_count": 46,
     "metadata": {},
     "output_type": "execute_result"
    }
   ],
   "source": [
    "X_train[:5] , y_train[:5]"
   ]
  },
  {
   "cell_type": "code",
   "execution_count": null,
   "metadata": {
    "colab": {
     "base_uri": "https://localhost:8080/"
    },
    "executionInfo": {
     "elapsed": 24,
     "status": "ok",
     "timestamp": 1710435269204,
     "user": {
      "displayName": "Nithin thota",
      "userId": "15364259671882924073"
     },
     "user_tz": -330
    },
    "id": "IjJkSDxqr5Yo",
    "outputId": "fc6bef49-fc9d-46d3-f528-ae1ad254685f"
   },
   "outputs": [
    {
     "data": {
      "text/plain": [
       "device(type='cpu')"
      ]
     },
     "execution_count": 47,
     "metadata": {},
     "output_type": "execute_result"
    }
   ],
   "source": [
    "##  checking the  model current device\n",
    "next(model_1.parameters()).device\n"
   ]
  },
  {
   "cell_type": "code",
   "execution_count": null,
   "metadata": {
    "colab": {
     "base_uri": "https://localhost:8080/"
    },
    "executionInfo": {
     "elapsed": 22,
     "status": "ok",
     "timestamp": 1710435269204,
     "user": {
      "displayName": "Nithin thota",
      "userId": "15364259671882924073"
     },
     "user_tz": -330
    },
    "id": "fV6p3E71maOB",
    "outputId": "1546cc2e-2e39-4673-90fe-2e3b32605897"
   },
   "outputs": [
    {
     "data": {
      "text/plain": [
       "device(type='cuda', index=0)"
      ]
     },
     "execution_count": 48,
     "metadata": {},
     "output_type": "execute_result"
    }
   ],
   "source": [
    "# set the model to use the target device\n",
    "model_1.to(device)\n",
    "next(model_1.parameters()).device"
   ]
  },
  {
   "cell_type": "markdown",
   "metadata": {
    "id": "ZKYxmOF1sgkm"
   },
   "source": [
    "## 6.3 Training\n",
    "For Training we need:\n",
    "* Loss function\n",
    "* Optimizer\n",
    "* Training loop\n",
    "* Testing loop"
   ]
  },
  {
   "cell_type": "code",
   "execution_count": null,
   "metadata": {
    "id": "Zoswdx4ysaet"
   },
   "outputs": [],
   "source": [
    "## setup loss function\n",
    "loss_function = nn.L1Loss( ) # same as MAE\n",
    "\n",
    "# set up optimizer\n",
    "optimizer = torch.optim.SGD(params = model_1.parameters(),\n",
    "                            lr = 0.01)"
   ]
  },
  {
   "cell_type": "code",
   "execution_count": null,
   "metadata": {
    "colab": {
     "base_uri": "https://localhost:8080/"
    },
    "executionInfo": {
     "elapsed": 746,
     "status": "ok",
     "timestamp": 1710435269930,
     "user": {
      "displayName": "Nithin thota",
      "userId": "15364259671882924073"
     },
     "user_tz": -330
    },
    "id": "f_T8gZ_DtrNa",
    "outputId": "26e259e1-00ef-4040-9283-ce38845f69b7"
   },
   "outputs": [
    {
     "name": "stdout",
     "output_type": "stream",
     "text": [
      "Epoch:0 | Loss :0.5551779866218567 |  Test Loss:0.5739762187004089\n",
      "Epoch:10 | Loss :0.439968079328537 |  Test Loss:0.4392664134502411\n",
      "Epoch:20 | Loss :0.3247582018375397 |  Test Loss:0.30455657839775085\n",
      "Epoch:30 | Loss :0.20954833924770355 |  Test Loss:0.16984669864177704\n",
      "Epoch:40 | Loss :0.09433845430612564 |  Test Loss:0.03513690456748009\n",
      "Epoch:50 | Loss :0.023886388167738914 |  Test Loss:0.04784907028079033\n",
      "Epoch:60 | Loss :0.019956795498728752 |  Test Loss:0.045803118497133255\n",
      "Epoch:70 | Loss :0.016517987474799156 |  Test Loss:0.037530567497015\n",
      "Epoch:80 | Loss :0.013089174404740334 |  Test Loss:0.02994490973651409\n",
      "Epoch:90 | Loss :0.009653178043663502 |  Test Loss:0.02167237363755703\n",
      "Epoch:100 | Loss :0.006215683650225401 |  Test Loss:0.014086711220443249\n",
      "Epoch:110 | Loss :0.00278724217787385 |  Test Loss:0.005814164876937866\n",
      "Epoch:120 | Loss :0.0012645035749301314 |  Test Loss:0.013801801018416882\n",
      "Epoch:130 | Loss :0.0012645035749301314 |  Test Loss:0.013801801018416882\n",
      "Epoch:140 | Loss :0.0012645035749301314 |  Test Loss:0.013801801018416882\n",
      "Epoch:150 | Loss :0.0012645035749301314 |  Test Loss:0.013801801018416882\n",
      "Epoch:160 | Loss :0.0012645035749301314 |  Test Loss:0.013801801018416882\n",
      "Epoch:170 | Loss :0.0012645035749301314 |  Test Loss:0.013801801018416882\n",
      "Epoch:180 | Loss :0.0012645035749301314 |  Test Loss:0.013801801018416882\n",
      "Epoch:190 | Loss :0.0012645035749301314 |  Test Loss:0.013801801018416882\n"
     ]
    }
   ],
   "source": [
    "# let's Write a training loop\n",
    "torch.manual_seed(42)\n",
    "epochs = 200\n",
    "\n",
    "# Put data on the target device\n",
    "X_train = X_train.to(device)\n",
    "y_train = y_train.to(device)\n",
    "X_test = X_test.to(device)\n",
    "y_test = y_test.to(device)\n",
    "\n",
    "for epochs in range(epochs):\n",
    "  model_1.train()\n",
    "  # 1.forward pass\n",
    "  y_pred = model_1(X_train)\n",
    "\n",
    "  # 2.calculate zero grad\n",
    "  loss = loss_fn(y_pred,y_train)\n",
    "\n",
    "  # 3.optimizer zero grad\n",
    "  optimizer.zero_grad()\n",
    "\n",
    "  # 4 perform backpropagation\n",
    "  loss.backward()\n",
    "\n",
    "  # 5. optimizer step\n",
    "  optimizer.step()\n",
    "\n",
    "  ## Testing\n",
    "  model_1.eval()\n",
    "  with torch.inference_mode():\n",
    "    test_pred = model_1(X_test)\n",
    "\n",
    "    test_loss = loss_fn(test_pred , y_test)\n",
    "\n",
    "  # print\n",
    "  if epochs %10 == 0:\n",
    "    print(f\"Epoch:{epochs} | Loss :{loss} |  Test Loss:{test_loss}\")"
   ]
  },
  {
   "cell_type": "code",
   "execution_count": null,
   "metadata": {
    "colab": {
     "base_uri": "https://localhost:8080/"
    },
    "executionInfo": {
     "elapsed": 15,
     "status": "ok",
     "timestamp": 1710435269931,
     "user": {
      "displayName": "Nithin thota",
      "userId": "15364259671882924073"
     },
     "user_tz": -330
    },
    "id": "lhV4Z03QvySh",
    "outputId": "3c7d9702-cac2-4134-aac9-81421ea081cd"
   },
   "outputs": [
    {
     "data": {
      "text/plain": [
       "OrderedDict([('linear_layer.weight', tensor([[0.6968]], device='cuda:0')),\n",
       "             ('linear_layer.bias', tensor([0.3025], device='cuda:0'))])"
      ]
     },
     "execution_count": 51,
     "metadata": {},
     "output_type": "execute_result"
    }
   ],
   "source": [
    " model_1.state_dict()"
   ]
  },
  {
   "cell_type": "code",
   "execution_count": null,
   "metadata": {
    "colab": {
     "base_uri": "https://localhost:8080/"
    },
    "executionInfo": {
     "elapsed": 12,
     "status": "ok",
     "timestamp": 1710435269931,
     "user": {
      "displayName": "Nithin thota",
      "userId": "15364259671882924073"
     },
     "user_tz": -330
    },
    "id": "h9pB64C1x6Me",
    "outputId": "f7f0969e-d1b6-438e-9c99-c5363b238570"
   },
   "outputs": [
    {
     "data": {
      "text/plain": [
       "(0.7, 0.3)"
      ]
     },
     "execution_count": 52,
     "metadata": {},
     "output_type": "execute_result"
    }
   ],
   "source": [
    "weight ,bias"
   ]
  },
  {
   "cell_type": "markdown",
   "metadata": {
    "id": "ZZWhUJDlyvi9"
   },
   "source": [
    "### 6.4 Making and evaluting Predictions"
   ]
  },
  {
   "cell_type": "code",
   "execution_count": null,
   "metadata": {
    "colab": {
     "base_uri": "https://localhost:8080/"
    },
    "executionInfo": {
     "elapsed": 10,
     "status": "ok",
     "timestamp": 1710435269931,
     "user": {
      "displayName": "Nithin thota",
      "userId": "15364259671882924073"
     },
     "user_tz": -330
    },
    "id": "tbtpq3pOx93w",
    "outputId": "c416c3d9-3f83-4334-b7a5-8eb1d58812dd"
   },
   "outputs": [
    {
     "data": {
      "text/plain": [
       "tensor([[0.8600],\n",
       "        [0.8739],\n",
       "        [0.8878],\n",
       "        [0.9018],\n",
       "        [0.9157],\n",
       "        [0.9296],\n",
       "        [0.9436],\n",
       "        [0.9575],\n",
       "        [0.9714],\n",
       "        [0.9854]], device='cuda:0')"
      ]
     },
     "execution_count": 53,
     "metadata": {},
     "output_type": "execute_result"
    }
   ],
   "source": [
    "# Turn model into evalution mode\n",
    "model_1.eval()\n",
    " # Make Predictions on the test data\n",
    "with torch.inference_mode():\n",
    "  y_preds = model_1(X_test)\n",
    "y_preds"
   ]
  },
  {
   "cell_type": "code",
   "execution_count": null,
   "metadata": {
    "colab": {
     "base_uri": "https://localhost:8080/",
     "height": 599
    },
    "executionInfo": {
     "elapsed": 806,
     "status": "ok",
     "timestamp": 1710435270733,
     "user": {
      "displayName": "Nithin thota",
      "userId": "15364259671882924073"
     },
     "user_tz": -330
    },
    "id": "pFT9tbR5zRVk",
    "outputId": "2dacb175-5bbc-4ad6-d9e2-d1cdbfeb4735"
   },
   "outputs": [
    {
     "data": {
      "image/png": "[encoded data removed]",
      "text/plain": [
       "<Figure size 1000x700 with 1 Axes>"
      ]
     },
     "metadata": {},
     "output_type": "display_data"
    }
   ],
   "source": [
    "## check out our model Predictions visually\n",
    "plot_predictions(predictions = y_preds.cpu())"
   ]
  },
  {
   "cell_type": "markdown",
   "metadata": {
    "id": "ExtMlxmaz7xz"
   },
   "source": [
    "## 6.5 Saving & loading a trained model"
   ]
  },
  {
   "cell_type": "code",
   "execution_count": null,
   "metadata": {
    "colab": {
     "base_uri": "https://localhost:8080/"
    },
    "executionInfo": {
     "elapsed": 8,
     "status": "ok",
     "timestamp": 1710435387002,
     "user": {
      "displayName": "Nithin thota",
      "userId": "15364259671882924073"
     },
     "user_tz": -330
    },
    "id": "TxILgDMpznaI",
    "outputId": "a1b879a7-4c40-4825-edad-ebe0ccd4d37d"
   },
   "outputs": [
    {
     "name": "stdout",
     "output_type": "stream",
     "text": [
      "Saving model to :models/01_pytorch_workflow_model_1.pth\n"
     ]
    }
   ],
   "source": [
    "from pathlib import Path\n",
    "\n",
    "# 1.create models directory\n",
    "MODEL_PATH = Path('models')\n",
    "MODEL_PATH.mkdir(parents = True,exist_ok=True)\n",
    "\n",
    "# 2. Create model save path\n",
    "MODEL_NAME = \"01_pytorch_workflow_model_1.pth\"\n",
    "MODEL_SAVE_PATH  = MODEL_PATH / MODEL_NAME\n",
    "\n",
    "\n",
    "# 3 . Save the model state dict\n",
    "print(f\"Saving model to :{MODEL_SAVE_PATH}\")\n",
    "torch.save(obj=model_1.state_dict(),\n",
    "           f =MODEL_SAVE_PATH )"
   ]
  },
  {
   "cell_type": "code",
   "execution_count": null,
   "metadata": {
    "colab": {
     "base_uri": "https://localhost:8080/"
    },
    "executionInfo": {
     "elapsed": 11,
     "status": "ok",
     "timestamp": 1710435404646,
     "user": {
      "displayName": "Nithin thota",
      "userId": "15364259671882924073"
     },
     "user_tz": -330
    },
    "id": "XjkQZrdU4B5q",
    "outputId": "a4f060a5-90cd-45a9-d301-34ef55a8ff95"
   },
   "outputs": [
    {
     "data": {
      "text/plain": [
       "OrderedDict([('linear_layer.weight', tensor([[0.6968]], device='cuda:0')),\n",
       "             ('linear_layer.bias', tensor([0.3025], device='cuda:0'))])"
      ]
     },
     "execution_count": 58,
     "metadata": {},
     "output_type": "execute_result"
    }
   ],
   "source": [
    "model_1.state_dict()"
   ]
  },
  {
   "cell_type": "code",
   "execution_count": null,
   "metadata": {
    "colab": {
     "base_uri": "https://localhost:8080/"
    },
    "executionInfo": {
     "elapsed": 15,
     "status": "ok",
     "timestamp": 1710435737035,
     "user": {
      "displayName": "Nithin thota",
      "userId": "15364259671882924073"
     },
     "user_tz": -330
    },
    "id": "XvPTp5jj5QVu",
    "outputId": "761229ed-124c-42d4-8b58-42311bd48e4e"
   },
   "outputs": [
    {
     "data": {
      "text/plain": [
       "LinearRegressionModelV2(\n",
       "  (linear_layer): Linear(in_features=1, out_features=1, bias=True)\n",
       ")"
      ]
     },
     "execution_count": 59,
     "metadata": {},
     "output_type": "execute_result"
    }
   ],
   "source": [
    "## load a pytorch\n",
    "\n",
    "# Create a new instance of linear regression modelV2\n",
    "loaded_model_1 = LinearRegressionModelV2()\n",
    "\n",
    "# load the saved model_state_dict()\n",
    "loaded_model_1.load_state_dict(torch.load(MODEL_SAVE_PATH))\n",
    "\n",
    "# Put the loaded model to device\n",
    "loaded_model_1.to(device)"
   ]
  },
  {
   "cell_type": "code",
   "execution_count": null,
   "metadata": {
    "colab": {
     "base_uri": "https://localhost:8080/"
    },
    "executionInfo": {
     "elapsed": 3,
     "status": "ok",
     "timestamp": 1710435796410,
     "user": {
      "displayName": "Nithin thota",
      "userId": "15364259671882924073"
     },
     "user_tz": -330
    },
    "id": "4me1riwq6hMt",
    "outputId": "62be6a5e-9681-47e1-e82a-bcbf2875fa8d"
   },
   "outputs": [
    {
     "data": {
      "text/plain": [
       "device(type='cuda', index=0)"
      ]
     },
     "execution_count": 60,
     "metadata": {},
     "output_type": "execute_result"
    }
   ],
   "source": [
    "next(loaded_model_1.parameters()).device"
   ]
  },
  {
   "cell_type": "code",
   "execution_count": null,
   "metadata": {
    "colab": {
     "base_uri": "https://localhost:8080/"
    },
    "executionInfo": {
     "elapsed": 5,
     "status": "ok",
     "timestamp": 1710435827346,
     "user": {
      "displayName": "Nithin thota",
      "userId": "15364259671882924073"
     },
     "user_tz": -330
    },
    "id": "QTOtKz__6vly",
    "outputId": "ebf7af9e-9851-4086-86c8-18edefdf88e5"
   },
   "outputs": [
    {
     "data": {
      "text/plain": [
       "OrderedDict([('linear_layer.weight', tensor([[0.6968]], device='cuda:0')),\n",
       "             ('linear_layer.bias', tensor([0.3025], device='cuda:0'))])"
      ]
     },
     "execution_count": 61,
     "metadata": {},
     "output_type": "execute_result"
    }
   ],
   "source": [
    "loaded_model_1.state_dict()"
   ]
  },
  {
   "cell_type": "code",
   "execution_count": null,
   "metadata": {
    "colab": {
     "base_uri": "https://localhost:8080/"
    },
    "executionInfo": {
     "elapsed": 1663,
     "status": "ok",
     "timestamp": 1710435954541,
     "user": {
      "displayName": "Nithin thota",
      "userId": "15364259671882924073"
     },
     "user_tz": -330
    },
    "id": "XqZQ1RIP61MY",
    "outputId": "f34b09ae-2f43-4897-d7b4-9d1ca55d315c"
   },
   "outputs": [
    {
     "data": {
      "text/plain": [
       "tensor([[True],\n",
       "        [True],\n",
       "        [True],\n",
       "        [True],\n",
       "        [True],\n",
       "        [True],\n",
       "        [True],\n",
       "        [True],\n",
       "        [True],\n",
       "        [True]], device='cuda:0')"
      ]
     },
     "execution_count": 62,
     "metadata": {},
     "output_type": "execute_result"
    }
   ],
   "source": [
    "## Evalute loaded model\n",
    "loaded_model_1.eval()\n",
    "with torch.inference_mode():\n",
    "  loaded_model_1_preds = loaded_model_1(X_test)\n",
    "y_preds == loaded_model_1_preds\n"
   ]
  }
 ],
 "metadata": {
  "accelerator": "GPU",
  "colab": {
   "authorship_tag": "ABX9TyO1TcgnczFYic2P8WZ3oBLG",
   "gpuType": "T4",
   "provenance": []
  },
  "kernelspec": {
   "display_name": "Python 3 (ipykernel)",
   "language": "python",
   "name": "python3"
  },
  "language_info": {
   "codemirror_mode": {
    "name": "ipython",
    "version": 3
   },
   "file_extension": ".py",
   "mimetype": "text/x-python",
   "name": "python",
   "nbconvert_exporter": "python",
   "pygments_lexer": "ipython3",
   "version": "3.10.9"
  }
 },
 "nbformat": 4,
 "nbformat_minor": 1
}
